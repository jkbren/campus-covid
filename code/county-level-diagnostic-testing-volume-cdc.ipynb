{
 "cells": [
  {
   "cell_type": "code",
   "execution_count": 14,
   "metadata": {},
   "outputs": [
    {
     "data": {
      "text/plain": [
       "'2021-01-02'"
      ]
     },
     "execution_count": 14,
     "metadata": {},
     "output_type": "execute_result"
    }
   ],
   "source": [
    "df['date'].min()"
   ]
  },
  {
   "cell_type": "code",
   "execution_count": 15,
   "metadata": {},
   "outputs": [],
   "source": [
    "import pandas as pd\n",
    "import datetime as dt\n",
    "import json\n",
    "import urllib.request\n",
    "\n",
    "all_state_names = {'ak':'Alaska','al':'Alabama','ar':'Arkansas','az':'Arizona','ca':'California','co':'Colorado',\n",
    "                   'ct':'Connecticut','dc':'District of Columbia','de':'Delaware','fl':'Florida','ga':'Georgia',\n",
    "                   'hi':'Hawaii','ia':'Iowa','id':'Idaho','il':'Illinois','in':'Indiana','ks':'Kansas',\n",
    "                   'ky':'Kentucky','la':'Louisiana','ma':'Massachusetts','md':'Maryland','me':'Maine',\n",
    "                   'mi':'Michigan','mn':'Minnesota','mo':'Missouri','ms':'Mississippi','mt':'Montana',\n",
    "                   'nc':'North Carolina','nd':'North Dakota','ne':'Nebraska','nh':'New Hampshire',\n",
    "                   'nj':'New Jersey','nm':'New Mexico','nv':'Nevada','ny':'New York','oh':'Ohio','ok':'Oklahoma',\n",
    "                   'or':'Oregon','pa':'Pennsylvania','ri':'Rhode Island','sc':'South Carolina',\n",
    "                   'sd':'South Dakota','tn':'Tennessee','tx':'Texas','ut':'Utah','va':'Virginia','vt':'Vermont',\n",
    "                   'wa':'Washington','wi':'Wisconsin','wv':'West Virginia','wy':'Wyoming'}\n",
    "\n",
    "\n",
    "out = []\n",
    "\n",
    "for st in all_state_names.keys():\n",
    "#     print(all_state_names[st], dt.datetime.now())\n",
    "    url_state_i = 'https://covid.cdc.gov/covid-data-tracker/COVIDData/'+\\\n",
    "           'getAjaxData?id=integrated_county_timeseries_state_%s_external'%st.upper()\n",
    "    try:\n",
    "        with urllib.request.urlopen(url_state_i) as url_i:\n",
    "            data_i = json.loads(url_i.read().decode())\n",
    "\n",
    "        st_i = pd.DataFrame(data_i['integrated_county_timeseries_external_data'])\n",
    "        out.append(st_i)\n",
    "    except:\n",
    "        print('\\t','could not scrape')\n",
    "        \n",
    "df = pd.concat(out)\n",
    "last_date = df.date.max()[:10]\n",
    "df['fips'] = (\"0\"+df['fips_code'].astype(str).str[:]).str[-5:]\n",
    "df['state'] = df['state_name']\n",
    "\n",
    "df = df[['date','fips', 'state', 'cbsa_code', 'county',\n",
    "       'new_cases_week_over_week_percent_change',\n",
    "       'new_cases_7_day_rolling_average',\n",
    "       'new_cases_per_100k_7_day_rolling_average',\n",
    "       'new_deaths_7_day_rolling_average',\n",
    "       'new_deaths_per_100k_7_day_rolling_average',\n",
    "       'daily_cli_7_day_rolling_average',\n",
    "       'daily_cli_percentage_7_day_rolling_average',\n",
    "       'daily_ili_7_day_rolling_average',\n",
    "       'daily_ili_percentage_7_day_rolling_average',\n",
    "       'new_test_results_reported',\n",
    "       'new_test_results_reported_7_day_rolling_average',\n",
    "       'percent_new_test_results_reported_positive_7_day_rolling_average',\n",
    "       'percent_positive_7_day',\n",
    "       'total_test_results_reported_week_over_week_count_change',\n",
    "       'testing_suppressed', 'total_hospitals_reporting',\n",
    "       'admissions_covid_confirmed_last_7_days',\n",
    "       'admissions_covid_confirmed_7_day_rolling_average',\n",
    "       'admissions_covid_confirmed_last_7_days_per_100_beds',\n",
    "       'admissions_covid_confirmed_week_over_week_percent_change',\n",
    "       'percent_adult_inpatient_beds_used_confirmed_covid',\n",
    "       'percent_adult_inpatient_beds_used_confirmed_covid_week_over_week_absolute_change',\n",
    "       'hospitals_included_in_percent_adult_inpatient_beds_used_confirmed_covid',\n",
    "       'percent_adult_icu_beds_used_confirmed_covid',\n",
    "       'percent_adult_icu_beds_used_confirmed_covid_week_over_week_absolute_change',\n",
    "       'hospitals_included_in_percent_adult_icu_beds_used_confirmed_covid',\n",
    "       'cbsa_daily_cli_7_day_rolling_average',\n",
    "       'cbsa_daily_cli_percentage_7_day_rolling_average',\n",
    "       'cbsa_daily_ili_7_day_rolling_average',\n",
    "       'cbsa_daily_ili_percentage_7_day_rolling_average', \n",
    "       'report_date_window_start', 'report_date_window_end',\n",
    "       'community_transmission_level', 'Cases_7_day_count_change',\n",
    "       'cases_per_100K_7_day_count_change', 'deaths_7_day_count_change',\n",
    "       'deaths_per_100K_7_day_count_change']].sort_values(['date','state']).reset_index().iloc[:,1:]"
   ]
  },
  {
   "cell_type": "code",
   "execution_count": 31,
   "metadata": {},
   "outputs": [],
   "source": []
  },
  {
   "cell_type": "code",
   "execution_count": 32,
   "metadata": {},
   "outputs": [],
   "source": [
    "df_old = pd.read_csv('../data/county_level_data_cdc.csv.gz', dtype={'fips':'str'})\n",
    "df_old = df_old.loc[df_old['date']<'2021-01-02'].copy().reset_index().iloc[:,1:]"
   ]
  },
  {
   "cell_type": "code",
   "execution_count": 33,
   "metadata": {},
   "outputs": [],
   "source": [
    "df = pd.concat([df_old,df[list(df_old.columns)]]).sort_values(['date','state']).reset_index().iloc[:,1:]"
   ]
  },
  {
   "cell_type": "code",
   "execution_count": 48,
   "metadata": {},
   "outputs": [],
   "source": [
    "import numpy as np\n",
    "for c in ['new_cases_7_day_rolling_average',\n",
    "       'new_cases_per_100k_7_day_rolling_average',\n",
    "       'new_deaths_7_day_rolling_average',\n",
    "       'new_deaths_per_100k_7_day_rolling_average',\n",
    "       'daily_cli_7_day_rolling_average',\n",
    "       'daily_cli_percentage_7_day_rolling_average',\n",
    "       'daily_ili_percentage_7_day_rolling_average',\n",
    "       'new_test_results_reported',\n",
    "       'new_test_results_reported_7_day_rolling_average',\n",
    "       'percent_new_test_results_reported_positive_7_day_rolling_average',\n",
    "       'percent_positive_7_day', 'total_hospitals_reporting',\n",
    "       'admissions_covid_confirmed_last_7_days',\n",
    "       'admissions_covid_confirmed_7_day_rolling_average',\n",
    "       'admissions_covid_confirmed_last_7_days_per_100_beds',\n",
    "       'admissions_covid_confirmed_week_over_week_percent_change',\n",
    "       'percent_adult_inpatient_beds_used_confirmed_covid',\n",
    "       'percent_adult_inpatient_beds_used_confirmed_covid_week_over_week_absolute_change',\n",
    "       'hospitals_included_in_percent_adult_inpatient_beds_used_confirmed_covid',\n",
    "       'percent_adult_icu_beds_used_confirmed_covid',\n",
    "       'percent_adult_icu_beds_used_confirmed_covid_week_over_week_absolute_change',\n",
    "       'hospitals_included_in_percent_adult_icu_beds_used_confirmed_covid']:\n",
    "    df.loc[df[c]=='suppressed',c] = np.nan\n",
    "    df[c] = df[c].astype(float)"
   ]
  },
  {
   "cell_type": "code",
   "execution_count": null,
   "metadata": {},
   "outputs": [],
   "source": []
  },
  {
   "cell_type": "markdown",
   "metadata": {},
   "source": [
    "# save csv: about 200+ MB of data"
   ]
  },
  {
   "cell_type": "code",
   "execution_count": 51,
   "metadata": {},
   "outputs": [],
   "source": [
    "df.to_csv('../data/county_level_cdc_data_%s_2021-08-31.csv.gz'%last_date,index=False)"
   ]
  },
  {
   "cell_type": "code",
   "execution_count": 8,
   "metadata": {},
   "outputs": [
    {
     "data": {
      "text/html": [
       "<div>\n",
       "<style scoped>\n",
       "    .dataframe tbody tr th:only-of-type {\n",
       "        vertical-align: middle;\n",
       "    }\n",
       "\n",
       "    .dataframe tbody tr th {\n",
       "        vertical-align: top;\n",
       "    }\n",
       "\n",
       "    .dataframe thead th {\n",
       "        text-align: right;\n",
       "    }\n",
       "</style>\n",
       "<table border=\"1\" class=\"dataframe\">\n",
       "  <thead>\n",
       "    <tr style=\"text-align: right;\">\n",
       "      <th></th>\n",
       "      <th>date</th>\n",
       "      <th>fips_code</th>\n",
       "      <th>new_test_results_reported</th>\n",
       "    </tr>\n",
       "  </thead>\n",
       "  <tbody>\n",
       "    <tr>\n",
       "      <th>0</th>\n",
       "      <td>2020-01-22</td>\n",
       "      <td>02013</td>\n",
       "      <td>NaN</td>\n",
       "    </tr>\n",
       "    <tr>\n",
       "      <th>1</th>\n",
       "      <td>2020-01-23</td>\n",
       "      <td>02013</td>\n",
       "      <td>NaN</td>\n",
       "    </tr>\n",
       "    <tr>\n",
       "      <th>2</th>\n",
       "      <td>2020-01-24</td>\n",
       "      <td>02013</td>\n",
       "      <td>NaN</td>\n",
       "    </tr>\n",
       "    <tr>\n",
       "      <th>3</th>\n",
       "      <td>2020-01-25</td>\n",
       "      <td>02013</td>\n",
       "      <td>NaN</td>\n",
       "    </tr>\n",
       "    <tr>\n",
       "      <th>4</th>\n",
       "      <td>2020-01-26</td>\n",
       "      <td>02013</td>\n",
       "      <td>NaN</td>\n",
       "    </tr>\n",
       "  </tbody>\n",
       "</table>\n",
       "</div>"
      ],
      "text/plain": [
       "         date fips_code  new_test_results_reported\n",
       "0  2020-01-22     02013                        NaN\n",
       "1  2020-01-23     02013                        NaN\n",
       "2  2020-01-24     02013                        NaN\n",
       "3  2020-01-25     02013                        NaN\n",
       "4  2020-01-26     02013                        NaN"
      ]
     },
     "execution_count": 8,
     "metadata": {},
     "output_type": "execute_result"
    }
   ],
   "source": [
    "raw_testing = df[['date','fips_code','new_test_results_reported']].copy()\n",
    "raw_testing['date'] = raw_testing['date'].str[:10]\n",
    "raw_testing.head()"
   ]
  },
  {
   "cell_type": "code",
   "execution_count": 9,
   "metadata": {},
   "outputs": [],
   "source": [
    "raw_testing.to_csv('../data/county_level_cdc_test_volume_%s.csv'%last_date,index=False)"
   ]
  },
  {
   "cell_type": "markdown",
   "metadata": {},
   "source": [
    "___________________"
   ]
  }
 ],
 "metadata": {
  "kernelspec": {
   "display_name": "Python 3",
   "language": "python",
   "name": "python3"
  },
  "language_info": {
   "codemirror_mode": {
    "name": "ipython",
    "version": 3
   },
   "file_extension": ".py",
   "mimetype": "text/x-python",
   "name": "python",
   "nbconvert_exporter": "python",
   "pygments_lexer": "ipython3",
   "version": "3.8.5"
  }
 },
 "nbformat": 4,
 "nbformat_minor": 4
}
