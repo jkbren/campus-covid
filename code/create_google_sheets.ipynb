{
 "cells": [
  {
   "cell_type": "code",
   "execution_count": 1,
   "metadata": {},
   "outputs": [],
   "source": [
    "from googlesearch import search\n",
    "import pandas as pd\n",
    "import numpy as np\n",
    "import datetime as dt\n",
    "import numpy as np\n",
    "from collections import Counter"
   ]
  },
  {
   "cell_type": "code",
   "execution_count": 2,
   "metadata": {},
   "outputs": [],
   "source": [
    "all_state_names = {'ak': 'Alaska', 'al': 'Alabama', 'ar': 'Arkansas',\n",
    "                   'as': 'American Samoa',  'az': 'Arizona',\n",
    "                   'ca': 'California', 'co': 'Colorado',\n",
    "                   'ct': 'Connecticut', 'dc': 'District of Columbia',\n",
    "                   'de': 'Delaware', 'fl': 'Florida', 'ga': 'Georgia',\n",
    "                   'gu': 'Guam', 'hi': 'Hawaii', 'ia': 'Iowa',\n",
    "                   'id': 'Idaho', 'il': 'Illinois', 'in': 'Indiana',\n",
    "                   'ks': 'Kansas', 'ky': 'Kentucky', 'la': 'Louisiana',\n",
    "                   'ma': 'Massachusetts', 'md': 'Maryland', 'me': 'Maine',\n",
    "                   'mi': 'Michigan', 'mn': 'Minnesota', 'mo': 'Missouri',\n",
    "                   'mp': 'Northern Mariana Islands', 'ms': 'Mississippi',\n",
    "                   'mt': 'Montana', 'nc': 'North Carolina',\n",
    "                   'nd': 'North Dakota', 'ne': 'Nebraska',\n",
    "                   'nh': 'New Hampshire', 'nj': 'New Jersey',\n",
    "                   'nm': 'New Mexico', 'nv': 'Nevada', 'ny': 'New York',\n",
    "                   'oh': 'Ohio', 'ok': 'Oklahoma', 'or': 'Oregon',\n",
    "                   'pa': 'Pennsylvania', 'pr': 'Puerto Rico',\n",
    "                   'ri': 'Rhode Island', 'sc': 'South Carolina',\n",
    "                   'sd': 'South Dakota', 'tn': 'Tennessee', 'tx': 'Texas',\n",
    "                   'ut': 'Utah', 'va': 'Virginia',\n",
    "                   'vi': 'Virgin Islands', 'vt': 'Vermont',\n",
    "                   'wa': 'Washington', 'wi': 'Wisconsin',\n",
    "                   'wv': 'West Virginia', 'wy': 'Wyoming'}"
   ]
  },
  {
   "cell_type": "code",
   "execution_count": 3,
   "metadata": {},
   "outputs": [
    {
     "name": "stdout",
     "output_type": "stream",
     "text": [
      "n = 4879 colleges\n"
     ]
    }
   ],
   "source": [
    "ipeds_df = pd.read_csv('../data/ipeds_data.csv', dtype={'ipeds_id':str}, encoding='latin8')\n",
    "min_enroll = 100\n",
    "enr = 'Total enrollment (DRVEF2018)'\n",
    "ipeds_df = ipeds_df.loc[~ipeds_df[enr].isna()].copy()\n",
    "ipeds_df = ipeds_df.loc[ipeds_df[enr]>min_enroll].copy()\n",
    "ipeds_df = ipeds_df.sort_values(enr,ascending=False).reset_index().iloc[:,1:]\n",
    "college_names = ipeds_df['Institution Name'].to_list()\n",
    "print('n =',len(college_names),'colleges')"
   ]
  },
  {
   "cell_type": "markdown",
   "metadata": {},
   "source": [
    "### This is a preview of how I arrived at COVID dashboard urls for thousands of schools\n",
    "It's not exaclty it because it's very tedious to remake the whole thing, but it is reproduceable from the code snippets below."
   ]
  },
  {
   "cell_type": "code",
   "execution_count": 4,
   "metadata": {},
   "outputs": [],
   "source": [
    "dashboard_dict = {'college':[], 'ipeds_id':[], 'url':[], 'state':[]}"
   ]
  },
  {
   "cell_type": "code",
   "execution_count": 5,
   "metadata": {},
   "outputs": [
    {
     "name": "stdout",
     "output_type": "stream",
     "text": [
      "Western Governors University Utah https://www.wgu.edu/about/jobs.html \n",
      "\t 2021-01-25 12:57:43.300443\n",
      "Southern New Hampshire University New Hampshire https://www.snhu.edu/about-us/covid-19 \n",
      "\t 2021-01-25 12:58:02.072451\n",
      "University of Phoenix-Arizona Arizona https://covid19.arizona.edu/dashboard \n",
      "\t 2021-01-25 12:58:20.969062\n",
      "Grand Canyon University Arizona https://www.gcu.edu/coronavirus-disease-2019-information \n",
      "\t 2021-01-25 12:58:41.598506\n",
      "Liberty University Virginia https://www.liberty.edu/coronavirus/covid-19-dashboard/ \n",
      "\t 2021-01-25 12:59:00.588945\n",
      "Lone Star College System Texas https://www.lonestar.edu/coronavirus.htm \n",
      "\t 2021-01-25 12:59:19.960534\n",
      "Ivy Tech Community College Indiana https://www.ivytech.edu/coronavirus.html \n",
      "\t 2021-01-25 12:59:38.842861\n",
      "Texas A & M University-College Station Texas https://www.tamu.edu/coronavirus/dashboard/index.html \n",
      "\t 2021-01-25 12:59:58.706565\n",
      "University of Central Florida Florida https://www.ucf.edu/coronavirus/ \n",
      "\t 2021-01-25 13:00:18.215673\n",
      "Ohio State University-Main Campus Ohio https://safeandhealthy.osu.edu/dashboard \n",
      "\t 2021-01-25 13:00:37.207831\n"
     ]
    },
    {
     "data": {
      "text/html": [
       "<div>\n",
       "<style scoped>\n",
       "    .dataframe tbody tr th:only-of-type {\n",
       "        vertical-align: middle;\n",
       "    }\n",
       "\n",
       "    .dataframe tbody tr th {\n",
       "        vertical-align: top;\n",
       "    }\n",
       "\n",
       "    .dataframe thead th {\n",
       "        text-align: right;\n",
       "    }\n",
       "</style>\n",
       "<table border=\"1\" class=\"dataframe\">\n",
       "  <thead>\n",
       "    <tr style=\"text-align: right;\">\n",
       "      <th></th>\n",
       "      <th>college</th>\n",
       "      <th>ipeds_id</th>\n",
       "      <th>url</th>\n",
       "      <th>state</th>\n",
       "    </tr>\n",
       "  </thead>\n",
       "  <tbody>\n",
       "    <tr>\n",
       "      <th>0</th>\n",
       "      <td>Western Governors University</td>\n",
       "      <td>433387</td>\n",
       "      <td>https://www.wgu.edu/about/jobs.html</td>\n",
       "      <td>Utah</td>\n",
       "    </tr>\n",
       "    <tr>\n",
       "      <th>1</th>\n",
       "      <td>Southern New Hampshire University</td>\n",
       "      <td>183026</td>\n",
       "      <td>https://www.snhu.edu/about-us/covid-19</td>\n",
       "      <td>New Hampshire</td>\n",
       "    </tr>\n",
       "    <tr>\n",
       "      <th>2</th>\n",
       "      <td>University of Phoenix-Arizona</td>\n",
       "      <td>484613</td>\n",
       "      <td>https://covid19.arizona.edu/dashboard</td>\n",
       "      <td>Arizona</td>\n",
       "    </tr>\n",
       "    <tr>\n",
       "      <th>3</th>\n",
       "      <td>Grand Canyon University</td>\n",
       "      <td>104717</td>\n",
       "      <td>https://www.gcu.edu/coronavirus-disease-2019-i...</td>\n",
       "      <td>Arizona</td>\n",
       "    </tr>\n",
       "    <tr>\n",
       "      <th>4</th>\n",
       "      <td>Liberty University</td>\n",
       "      <td>232557</td>\n",
       "      <td>https://www.liberty.edu/coronavirus/covid-19-d...</td>\n",
       "      <td>Virginia</td>\n",
       "    </tr>\n",
       "    <tr>\n",
       "      <th>5</th>\n",
       "      <td>Lone Star College System</td>\n",
       "      <td>227182</td>\n",
       "      <td>https://www.lonestar.edu/coronavirus.htm</td>\n",
       "      <td>Texas</td>\n",
       "    </tr>\n",
       "    <tr>\n",
       "      <th>6</th>\n",
       "      <td>Ivy Tech Community College</td>\n",
       "      <td>150987</td>\n",
       "      <td>https://www.ivytech.edu/coronavirus.html</td>\n",
       "      <td>Indiana</td>\n",
       "    </tr>\n",
       "    <tr>\n",
       "      <th>7</th>\n",
       "      <td>Texas A &amp; M University-College Station</td>\n",
       "      <td>228723</td>\n",
       "      <td>https://www.tamu.edu/coronavirus/dashboard/ind...</td>\n",
       "      <td>Texas</td>\n",
       "    </tr>\n",
       "    <tr>\n",
       "      <th>8</th>\n",
       "      <td>University of Central Florida</td>\n",
       "      <td>132903</td>\n",
       "      <td>https://www.ucf.edu/coronavirus/</td>\n",
       "      <td>Florida</td>\n",
       "    </tr>\n",
       "    <tr>\n",
       "      <th>9</th>\n",
       "      <td>Ohio State University-Main Campus</td>\n",
       "      <td>204796</td>\n",
       "      <td>https://safeandhealthy.osu.edu/dashboard</td>\n",
       "      <td>Ohio</td>\n",
       "    </tr>\n",
       "  </tbody>\n",
       "</table>\n",
       "</div>"
      ],
      "text/plain": [
       "                                  college ipeds_id  \\\n",
       "0            Western Governors University   433387   \n",
       "1       Southern New Hampshire University   183026   \n",
       "2           University of Phoenix-Arizona   484613   \n",
       "3                 Grand Canyon University   104717   \n",
       "4                      Liberty University   232557   \n",
       "5                Lone Star College System   227182   \n",
       "6              Ivy Tech Community College   150987   \n",
       "7  Texas A & M University-College Station   228723   \n",
       "8           University of Central Florida   132903   \n",
       "9       Ohio State University-Main Campus   204796   \n",
       "\n",
       "                                                 url          state  \n",
       "0                https://www.wgu.edu/about/jobs.html           Utah  \n",
       "1             https://www.snhu.edu/about-us/covid-19  New Hampshire  \n",
       "2              https://covid19.arizona.edu/dashboard        Arizona  \n",
       "3  https://www.gcu.edu/coronavirus-disease-2019-i...        Arizona  \n",
       "4  https://www.liberty.edu/coronavirus/covid-19-d...       Virginia  \n",
       "5           https://www.lonestar.edu/coronavirus.htm          Texas  \n",
       "6           https://www.ivytech.edu/coronavirus.html        Indiana  \n",
       "7  https://www.tamu.edu/coronavirus/dashboard/ind...          Texas  \n",
       "8                   https://www.ucf.edu/coronavirus/        Florida  \n",
       "9           https://safeandhealthy.osu.edu/dashboard           Ohio  "
      ]
     },
     "execution_count": 5,
     "metadata": {},
     "output_type": "execute_result"
    }
   ],
   "source": [
    "for i, name_i in enumerate(college_names[:10]):\n",
    "    iped_i = ipeds_df.iloc[i,:]['ipeds_id']\n",
    "    stat_i = all_state_names[ipeds_df.iloc[i,:]['State abbreviation (HD2019)'].lower()]\n",
    "    quer1_i = '%s %s covid dashboard'%(name_i, stat_i)\n",
    "    quer2_i = '%s %s covid cases'%(name_i, stat_i)\n",
    "    quer3_i = '%s %s covid testing'%(name_i, stat_i)\n",
    "    quer4_i = '%s %s coronavirus dashboard'%(name_i, stat_i)\n",
    "    quer5_i = '%s %s coronavirus cases'%(name_i, stat_i)\n",
    "    quer6_i = '%s %s coronavirus testing'%(name_i, stat_i)\n",
    "    \n",
    "    urls_i = ['']\n",
    "    for quer_i in [quer1_i,quer2_i,quer3_i,quer4_i,quer5_i,quer6_i]:\n",
    "        try: \n",
    "            url_i = list(search(quer_i, tld=\"com\", num=1, stop=1, pause=2))[0]\n",
    "            urls_i.append(url_i)\n",
    "        except:\n",
    "            urls_i.append('')\n",
    "\n",
    "    url_i = Counter(urls_i).most_common(1)[0][0].lower()\n",
    "\n",
    "    if url_i == '':\n",
    "        print('\\t', name_i, stat_i, 'cannot find url', '\\n\\t\\t', dt.datetime.now())\n",
    "    else:\n",
    "        print(name_i, stat_i, url_i, '\\n\\t',dt.datetime.now())\n",
    "    \n",
    "    dashboard_dict['college'].append(name_i)\n",
    "    dashboard_dict['ipeds_id'].append(iped_i)\n",
    "    dashboard_dict['state'].append(stat_i)\n",
    "    dashboard_dict['url'].append(url_i)\n",
    "    \n",
    "dashboard_df = pd.DataFrame(dashboard_dict)\n",
    "dashboard_df"
   ]
  },
  {
   "cell_type": "markdown",
   "metadata": {},
   "source": [
    "__________________________"
   ]
  },
  {
   "cell_type": "markdown",
   "metadata": {},
   "source": [
    "### Below is roughly what I did to mass-create google sheets for each institute of higher education\n",
    "It's not exaclty it because it's very tedious to remake the whole thing, but it is reproduceable from the code snippets below."
   ]
  },
  {
   "cell_type": "code",
   "execution_count": 6,
   "metadata": {},
   "outputs": [],
   "source": [
    "# import gspread\n",
    "# from oauth2client.service_account import ServiceAccountCredentials\n",
    "# from gspread_formatting import *\n",
    "# import time"
   ]
  },
  {
   "cell_type": "code",
   "execution_count": 7,
   "metadata": {},
   "outputs": [],
   "source": [
    "# # use creds to create a client to interact with the Google Drive API\n",
    "# scope = ['https://spreadsheets.google.com/feeds',\n",
    "#          'https://www.googleapis.com/auth/drive']\n",
    "\n",
    "# creds = ServiceAccountCredentials.from_json_keyfile_name('../../universities/data/client_secret.json', scope)\n",
    "# client = gspread.authorize(creds)"
   ]
  },
  {
   "cell_type": "code",
   "execution_count": 8,
   "metadata": {},
   "outputs": [],
   "source": [
    "# sheet = client.open(\"example-sheet-name\")"
   ]
  },
  {
   "cell_type": "code",
   "execution_count": 9,
   "metadata": {},
   "outputs": [],
   "source": [
    "# col_names = ['date','total_tests','positive_tests','college','url','ipeds_id','notes','when_finished']"
   ]
  },
  {
   "cell_type": "code",
   "execution_count": 10,
   "metadata": {},
   "outputs": [],
   "source": [
    "# first_date = '2020-08-01'\n",
    "# last_date = '2020-12-16'\n",
    "\n",
    "# weekday_mapping = {0:'Monday',1:'Tuesday',2:'Wednesday',3:'Thursday',4:'Friday',5:'Saturday',6:'Sunday'}\n",
    "\n",
    "# alldates = pd.date_range(start='2020-01-01', end='2020-12-31').tolist()\n",
    "# datelist = [str(i.date()) for i in alldates]\n",
    "# weekdays = [weekday_mapping[i.date().weekday()] for i in alldates]\n",
    "# weeklist = [i//7 for i in range(len(alldates))]\n",
    "# DATE_DF = pd.DataFrame({'date':datelist,'day':weekdays,'week':weeklist})\n",
    "# DATE_DF = DATE_DF.loc[(DATE_DF['date']<=last_date)&(DATE_DF['date']>=first_date)].copy()\n",
    "# DATERANGE = DATE_DF['date'].tolist()\n",
    "\n",
    "# date_dict = {DATERANGE[i]:i for i in range(len(DATERANGE))}"
   ]
  },
  {
   "cell_type": "code",
   "execution_count": 11,
   "metadata": {},
   "outputs": [],
   "source": [
    "# for ix in list(range(dashboard_df.shape[0])):\n",
    "#     ipeds_id_i = str(dashboard_df['ipeds_id'][ix])\n",
    "#     college_i = str(dashboard_df['college'][ix])\n",
    "#     url_i = str(dashboard_df['url'][ix])\n",
    "\n",
    "#     sheet.add_worksheet(ipeds_id_i, rows=len(DATERANGE), cols=len(col_names))\n",
    "\n",
    "#     worksheet_i = sheet.worksheet(ipeds_id_i)\n",
    "#     wid = worksheet_i.url.split('gid=')[1]\n",
    "#     worksheet_i.update('A1:H1', [col_names])\n",
    "#     worksheet_i.update('A2:A139', [[i] for i in DATERANGE])\n",
    "#     worksheet_i.update('D2:D139', [[college_i] for i in range(len(DATERANGE))])\n",
    "#     worksheet_i.update('E2:E139', [[url_i] for i in range(len(DATERANGE))])\n",
    "#     worksheet_i.update('F2:F139', [[ipeds_id_i] for i in range(len(DATERANGE))])\n",
    "#     worksheet_i.update('H2:H139', [[wid] for i in range(len(DATERANGE))])\n",
    "\n",
    "#     worksheet_i.format('A1:H1', {'textFormat': {'bold': True}})\n",
    "#     set_frozen(worksheet_i, rows=1)\n",
    "    \n",
    "#     set_column_widths(worksheet_i, [(\"A\",80),(\"B\",78),(\"C\",96),(\"D\",200),\n",
    "#                                     (\"E\",100),(\"F\",60),(\"G\",200),(\"H\",100)])\n",
    "\n",
    "#     worksheet_i.format(\"B2:C139\", {\n",
    "#         \"backgroundColor\": {\n",
    "#           \"red\": 227/256,\n",
    "#           \"green\": 255/256,\n",
    "#           \"blue\": 232/256\n",
    "#         },\n",
    "#     })\n",
    "#     url_beg = 'https://docs.google.com/spreadsheets/d/'\n",
    "#     url_end = worksheet_i.url.split('https://sheets.googleapis.com/v4/spreadsheets/')[1]\n",
    "\n",
    "#     print(\"Finished\",ix,college_i,\"at\",time.strftime(\"%H:%M:%S\",time.localtime()))\n",
    "#     time.sleep(10)"
   ]
  },
  {
   "cell_type": "code",
   "execution_count": null,
   "metadata": {},
   "outputs": [],
   "source": []
  }
 ],
 "metadata": {
  "kernelspec": {
   "display_name": "Python 3",
   "language": "python",
   "name": "python3"
  },
  "language_info": {
   "codemirror_mode": {
    "name": "ipython",
    "version": 3
   },
   "file_extension": ".py",
   "mimetype": "text/x-python",
   "name": "python",
   "nbconvert_exporter": "python",
   "pygments_lexer": "ipython3",
   "version": "3.7.6"
  }
 },
 "nbformat": 4,
 "nbformat_minor": 4
}
